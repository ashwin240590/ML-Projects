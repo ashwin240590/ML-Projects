{
 "cells": [
  {
   "cell_type": "markdown",
   "metadata": {},
   "source": [
    "# Exercise 2\n",
    "\n",
    "Topic of the exercise is classification and using PCA for dimensinality reduction. First preprocess data, and then fit three models to it:\n",
    "\n",
    "* LogisticRegression\n",
    "* LogisticRegression with data whose dimensionality is reduced with PCA\n",
    "* Random Forest\n"
   ]
  },
  {
   "cell_type": "code",
   "execution_count": 1,
   "metadata": {},
   "outputs": [],
   "source": [
    "from nose.tools import *\n",
    "import numpy as np\n",
    "import matplotlib.pyplot as plt\n",
    "from numpy import genfromtxt\n",
    "from sklearn.preprocessing import StandardScaler\n",
    "from sklearn.linear_model import LinearRegression\n",
    "from sklearn.linear_model import LogisticRegression\n",
    "from sklearn.model_selection import train_test_split\n",
    "from sklearn.preprocessing import PolynomialFeatures\n",
    "from sklearn.linear_model import Ridge\n",
    "from sklearn.linear_model import Lasso\n",
    "from sklearn.decomposition import PCA\n",
    "from sklearn.metrics import confusion_matrix\n",
    "from sklearn.tree import DecisionTreeClassifier\n",
    "from sklearn.tree import plot_tree\n",
    "from sklearn.ensemble import RandomForestClassifier"
   ]
  },
  {
   "cell_type": "markdown",
   "metadata": {},
   "source": [
    "### Fetch the MNIST data set\n",
    "\n",
    "MNIST data set consists of images of handwritten digits and corresponding labels (indicating the true number represented by the digit)."
   ]
  },
  {
   "cell_type": "code",
   "execution_count": 2,
   "metadata": {},
   "outputs": [],
   "source": [
    "from sklearn.datasets import fetch_openml\n",
    "x, y = fetch_openml('mnist_784', version=1, return_X_y=True)"
   ]
  },
  {
   "cell_type": "markdown",
   "metadata": {},
   "source": [
    "### Scale data and split into training and test"
   ]
  },
  {
   "cell_type": "code",
   "execution_count": 3,
   "metadata": {},
   "outputs": [],
   "source": [
    "\n",
    "scaler = StandardScaler().fit(x)\n",
    "scaled_x = scaler.transform(x)\n",
    "\n",
    "x_train, x_test, y_train, y_test = train_test_split(scaled_x, y, test_size=0.4)\n"
   ]
  },
  {
   "cell_type": "markdown",
   "metadata": {},
   "source": [
    "## Try out both LogisticRegression and RandomForest models"
   ]
  },
  {
   "cell_type": "markdown",
   "metadata": {},
   "source": [
    "### LogisticRegression (1p)"
   ]
  },
  {
   "cell_type": "code",
   "execution_count": 4,
   "metadata": {},
   "outputs": [
    {
     "name": "stderr",
     "output_type": "stream",
     "text": [
      "/Users/ashwin240590/opt/anaconda3/lib/python3.7/site-packages/sklearn/linear_model/_sag.py:330: ConvergenceWarning: The max_iter was reached which means the coef_ did not converge\n",
      "  \"the coef_ did not converge\", ConvergenceWarning)\n"
     ]
    },
    {
     "data": {
      "text/plain": [
       "LogisticRegression(C=1.0, class_weight=None, dual=False, fit_intercept=True,\n",
       "                   intercept_scaling=1, l1_ratio=None, max_iter=100,\n",
       "                   multi_class='multinomial', n_jobs=4, penalty='l2',\n",
       "                   random_state=None, solver='saga', tol=0.0001, verbose=0,\n",
       "                   warm_start=False)"
      ]
     },
     "execution_count": 4,
     "metadata": {},
     "output_type": "execute_result"
    }
   ],
   "source": [
    "\n",
    "\n",
    "lrmodel = LogisticRegression(multi_class='multinomial', solver='saga', penalty='l2', n_jobs=4)\n",
    "lrmodel.fit(x_train, y_train)\n"
   ]
  },
  {
   "cell_type": "markdown",
   "metadata": {},
   "source": [
    "### Confusion matrix and findings for LogisticRegression (1p)"
   ]
  },
  {
   "cell_type": "code",
   "execution_count": 5,
   "metadata": {},
   "outputs": [
    {
     "name": "stdout",
     "output_type": "stream",
     "text": [
      "training accuracy 0.9231428571428572\n",
      "[[4085    1   36   16    8   39   25   14   30   28]\n",
      " [   2 4530   43   30   27   33   19   37  130   21]\n",
      " [   9   22 3824   78   15   12   30   55   38   10]\n",
      " [  12   14   52 3769    7  109    1   15   89   55]\n",
      " [   7    5   61   10 3833   41   36   39   32  127]\n",
      " [  23   20    8  130    4 3339   47    5  110   25]\n",
      " [  30    7   48   14   32   74 3969    4   33    3]\n",
      " [  10    8   62   47   14   20    5 4101   24  126]\n",
      " [  21   52   85   63   22   81   18    6 3515   21]\n",
      " [   3    6   15   35  122   32    1  137   55 3807]]\n",
      "---------------------------------------------------------------\n",
      "validation accuracy 0.9171428571428571\n",
      "[[2620    0   24   17    6   39   20   10   25   12]\n",
      " [   1 3135   35   20   11   21   10   25   96   16]\n",
      " [   9   11 2441   65   20   15   15   22   28   11]\n",
      " [   6    6   42 2611    4   78    1   12   74   38]\n",
      " [   7    3   33    5 2560   33   21   37   20   91]\n",
      " [  16   13   13  100    3 2196   25    4   79   11]\n",
      " [  17    3   42   11   22   52 2617    0   27    1]\n",
      " [   5    9   44   33   12   18    3 2691   14   92]\n",
      " [  17   29   68   54   15   56   13    3 2357   11]\n",
      " [   3    3   14   33   87   25    0   76   49 2452]]\n"
     ]
    }
   ],
   "source": [
    "# Print accuracies and confusion matrices for training and test sets. What is your conclusion about\n",
    "# the model? Are there some digits that are harder to classify than others?\n",
    "print(\"training accuracy\", lrmodel.score(x_train, y_train))\n",
    "print(confusion_matrix(lrmodel.predict(x_train), y_train))\n",
    "print('---------------------------------------------------------------')\n",
    "print(\"validation accuracy\", lrmodel.score(x_test, y_test))\n",
    "print(confusion_matrix(lrmodel.predict(x_test), y_test))\n",
    "#"
   ]
  },
  {
   "cell_type": "markdown",
   "metadata": {},
   "source": [
    "### LogisticRegression with PCA (1p)\n",
    "\n",
    "Reduce the dimensionality of both training and test sets to 30 and train a logistic regression model on the transformed data set."
   ]
  },
  {
   "cell_type": "code",
   "execution_count": 9,
   "metadata": {},
   "outputs": [
    {
     "name": "stdout",
     "output_type": "stream",
     "text": [
      "training accuracy 0.8828095238095238\n",
      "[[3985    1   50   38   11  104   45   18   57   42]\n",
      " [   3 4554   68   26   31   46   18   52  169   31]\n",
      " [  18   25 3526   91   27   40   47   82   77   40]\n",
      " [  13   16   83 3663    1  181    3   12  165   61]\n",
      " [  11    4   89   10 3709   89   59   61   44  196]\n",
      " [  59   19   17  205    7 2939   77   10  128   59]\n",
      " [  43    6  110   31   54  110 3835    1   56    2]\n",
      " [  13   13   95   61   20   36    4 3953   45  185]\n",
      " [  21   68   99   87   26  119   21   10 3327   34]\n",
      " [   8    2   49   71  200   59    2  133   92 3587]]\n",
      "---------------------------------------------------------------\n",
      "validation accuracy 0.8836071428571428\n",
      "[[2620    0   25   24    8   77   28   22   33   25]\n",
      " [   0 3061   50   26   22   28   15   39  113   16]\n",
      " [  12   20 2414   73   14   24   27   43   46   25]\n",
      " [   8    5   44 2400    6  126    3    4  114   30]\n",
      " [   5    1   57    6 2485   46   40   48   29  168]\n",
      " [  51   14   16  152    7 2086   43    5  104   33]\n",
      " [  14    4   50   23   31   59 2590    1   39    5]\n",
      " [  11    8   54   53   10   21    6 2697   24  116]\n",
      " [   8   54   59   53   24   90   10    3 2103   18]\n",
      " [   0    2   35   48  131   33    3   99   60 2285]]\n"
     ]
    }
   ],
   "source": [
    "# Get the PCA data.\n",
    "pca_model = PCA(n_components=30).fit(x)\n",
    "pca_data = pca_model.transform(x)\n",
    "\n",
    "\n",
    "# Split the data.\n",
    "x_train, x_test, y_train, y_test = train_test_split(\n",
    "    pca_data,\n",
    "    y,\n",
    "    test_size=0.4\n",
    ")\n",
    "\n",
    "# Fit the logistic regression model.\n",
    "lr_model = LogisticRegression(multi_class='multinomial', solver='saga', penalty='l2', n_jobs=4).fit(x_train, y_train)\n",
    "\n",
    "# Get predictions and their confusion matrix.\n",
    "print(\"training accuracy\", lr_model.score(x_train, y_train))\n",
    "print(confusion_matrix(lr_model.predict(x_train), y_train))\n",
    "print('---------------------------------------------------------------')\n",
    "print(\"validation accuracy\", lr_model.score(x_test, y_test))\n",
    "print(confusion_matrix(lr_model.predict(x_test), y_test))\n",
    "\n"
   ]
  },
  {
   "cell_type": "markdown",
   "metadata": {},
   "source": [
    "### RandomForest (1p)"
   ]
  },
  {
   "cell_type": "code",
   "execution_count": 10,
   "metadata": {},
   "outputs": [
    {
     "data": {
      "text/plain": [
       "RandomForestClassifier(bootstrap=True, ccp_alpha=0.0, class_weight=None,\n",
       "                       criterion='gini', max_depth=None, max_features='auto',\n",
       "                       max_leaf_nodes=None, max_samples=None,\n",
       "                       min_impurity_decrease=0.0, min_impurity_split=None,\n",
       "                       min_samples_leaf=1, min_samples_split=2,\n",
       "                       min_weight_fraction_leaf=0.0, n_estimators=100,\n",
       "                       n_jobs=None, oob_score=False, random_state=None,\n",
       "                       verbose=0, warm_start=False)"
      ]
     },
     "execution_count": 10,
     "metadata": {},
     "output_type": "execute_result"
    }
   ],
   "source": [
    "rfmodel = RandomForestClassifier()#\n",
    "rfmodel.fit(x_train, y_train)#"
   ]
  },
  {
   "cell_type": "markdown",
   "metadata": {},
   "source": [
    "### Confusion matrix and findings for RandomForest (1p)"
   ]
  },
  {
   "cell_type": "code",
   "execution_count": 11,
   "metadata": {},
   "outputs": [
    {
     "name": "stdout",
     "output_type": "stream",
     "text": [
      "training accuracy 1.0\n",
      "[[4174    0    0    0    0    0    0    0    0    0]\n",
      " [   0 4708    0    0    0    0    0    0    0    0]\n",
      " [   0    0 4186    0    0    0    0    0    0    0]\n",
      " [   0    0    0 4283    0    0    0    0    0    0]\n",
      " [   0    0    0    0 4086    0    0    0    0    0]\n",
      " [   0    0    0    0    0 3723    0    0    0    0]\n",
      " [   0    0    0    0    0    0 4111    0    0    0]\n",
      " [   0    0    0    0    0    0    0 4332    0    0]\n",
      " [   0    0    0    0    0    0    0    0 4160    0]\n",
      " [   0    0    0    0    0    0    0    0    0 4237]]\n",
      "---------------------------------------------------------------\n",
      "validation accuracy 0.9505357142857143\n",
      "[[2693    0   18    4    2   13   18    1    7    7]\n",
      " [   0 3110    5    2   12    1    6   17   15    6]\n",
      " [   4   25 2659   42    6    9    6   27   24   12]\n",
      " [   3    7   20 2630    2   49    1    3   60   35]\n",
      " [   3    2   15    0 2598   15    6   19   13   81]\n",
      " [   6    2    7   52    0 2444   19    3   48   16]\n",
      " [  12    8   10   14   20   14 2704    3   14    6]\n",
      " [   3    4   24   36    4    2    0 2824    7   42]\n",
      " [   3    8   38   53    8   25    5    8 2456   19]\n",
      " [   2    3    8   25   86   18    0   56   21 2497]]\n"
     ]
    }
   ],
   "source": [
    "# Print accuracies and confusion matrices for training and test sets. What is your conclusion about\n",
    "# the model? Are there some digits that are harder to classify than others?\n",
    "\n",
    "#\n",
    "print(\"training accuracy\", rfmodel.score(x_train, y_train))\n",
    "print(confusion_matrix(rfmodel.predict(x_train), y_train))\n",
    "print('---------------------------------------------------------------')\n",
    "print(\"validation accuracy\", rfmodel.score(x_test, y_test))\n",
    "print(confusion_matrix(rfmodel.predict(x_test), y_test))"
   ]
  },
  {
   "cell_type": "code",
   "execution_count": null,
   "metadata": {},
   "outputs": [],
   "source": []
  }
 ],
 "metadata": {
  "kernelspec": {
   "display_name": "Python 3",
   "language": "python",
   "name": "python3"
  },
  "language_info": {
   "codemirror_mode": {
    "name": "ipython",
    "version": 3
   },
   "file_extension": ".py",
   "mimetype": "text/x-python",
   "name": "python",
   "nbconvert_exporter": "python",
   "pygments_lexer": "ipython3",
   "version": "3.7.4"
  }
 },
 "nbformat": 4,
 "nbformat_minor": 4
}
