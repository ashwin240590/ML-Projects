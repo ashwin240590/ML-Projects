{
 "cells": [
  {
   "cell_type": "markdown",
   "metadata": {},
   "source": [
    "# Personal information\n",
    "\n",
    "\n",
    "Name:Ashwin Manilal Patel\n",
    "\n"
   ]
  },
  {
   "cell_type": "markdown",
   "metadata": {},
   "source": [
    "## Exercise 1: Linear regressions\n",
    "\n",
    "In this exercise you'll work with (synthetic) data about basketball players starting their career in NBA.\n",
    "File bb.csv contains generated data about basketball player statistics. Columns Height, CollagePointsaverage and Draftposition are to be used to predict the value in column Pointsaverage. \n",
    "\n",
    "First step is to read in the data, study its statistics and create a scatterplot illustrating the data.\n",
    "\n",
    "In second step create a linear model that uses all features present in data to predict value for Pointsaverage.\n",
    "\n",
    "In third step create a second order polynomial linear regression model that uses only one feature (Draftposition) to predict Pointsaverage. Compare $R^2$ with model created in step 2.\n",
    "\n",
    "In fourth step create both unregularized (LinearRegression) and regularized (Ridge) polynomial models of degrees 1..40. Record the $R^2$ scores for both models (both training and test), and make a plot of them where x-axis is the degree of the polynomial and y-axis $R^2$.\n",
    "\n",
    "In all the modeling steps, remember to scale the data and split the it  into training and test sets (size of test set 40% of all data samples). "
   ]
  },
  {
   "cell_type": "code",
   "execution_count": 1,
   "metadata": {},
   "outputs": [],
   "source": [
    "from nose.tools import *\n",
    "import numpy as np\n",
    "import matplotlib.pyplot as plt\n",
    "from numpy import genfromtxt\n",
    "from sklearn.preprocessing import StandardScaler\n",
    "from sklearn.linear_model import LinearRegression\n",
    "from sklearn.model_selection import train_test_split\n",
    "from sklearn.preprocessing import PolynomialFeatures\n",
    "from sklearn.linear_model import Ridge"
   ]
  },
  {
   "cell_type": "markdown",
   "metadata": {},
   "source": [
    "# Step 1: read the data and plot"
   ]
  },
  {
   "cell_type": "markdown",
   "metadata": {},
   "source": [
    "## Read the dataset (1p)\n",
    "\n",
    "Print also basic statistics: means and stds for all columns."
   ]
  },
  {
   "cell_type": "code",
   "execution_count": 2,
   "metadata": {},
   "outputs": [
    {
     "name": "stdout",
     "output_type": "stream",
     "text": [
      "[[2.300e+01 2.180e+02 1.200e+01 1.550e+01]\n",
      " [9.100e+00 2.110e+02 3.100e+01 6.000e+00]\n",
      " [2.240e+01 1.880e+02 4.100e+01 3.200e+00]\n",
      " [2.310e+01 1.880e+02 1.100e+01 1.660e+01]\n",
      " [1.690e+01 2.004e+02 3.200e+01 5.800e+00]\n",
      " [1.810e+01 1.846e+02 5.000e+01 1.500e+00]\n",
      " [1.970e+01 2.079e+02 6.000e+00 1.960e+01]\n",
      " [1.060e+01 2.196e+02 3.900e+01 3.200e+00]\n",
      " [1.740e+01 1.775e+02 8.000e+00 1.870e+01]\n",
      " [2.020e+01 1.973e+02 3.400e+01 5.200e+00]\n",
      " [1.190e+01 2.247e+02 4.000e+01 2.800e+00]\n",
      " [1.650e+01 2.180e+02 4.200e+01 2.500e+00]\n",
      " [1.220e+01 1.869e+02 8.000e+00 1.850e+01]\n",
      " [2.330e+01 2.130e+02 5.900e+01 3.000e-01]\n",
      " [1.470e+01 2.149e+02 3.900e+01 3.300e+00]\n",
      " [8.900e+00 1.804e+02 3.000e+00 2.220e+01]\n",
      " [6.300e+00 1.927e+02 2.300e+01 9.700e+00]\n",
      " [2.190e+01 1.894e+02 6.000e+01 7.000e-01]\n",
      " [2.470e+01 1.833e+02 6.000e+00 2.000e+01]\n",
      " [2.450e+01 2.074e+02 4.800e+01 1.500e+00]\n",
      " [1.970e+01 2.014e+02 5.900e+01 5.000e-01]\n",
      " [1.720e+01 2.151e+02 5.500e+01 5.000e-01]\n",
      " [2.420e+01 2.205e+02 4.900e+01 1.100e+00]\n",
      " [1.500e+01 2.129e+02 2.000e+01 1.090e+01]\n",
      " [2.170e+01 2.018e+02 1.900e+01 1.170e+01]\n",
      " [1.020e+01 2.043e+02 2.900e+01 6.900e+00]\n",
      " [1.870e+01 1.786e+02 3.400e+01 5.500e+00]\n",
      " [1.520e+01 1.934e+02 2.000e+00 2.270e+01]\n",
      " [1.280e+01 2.228e+02 3.100e+01 5.800e+00]\n",
      " [7.100e+00 2.233e+02 3.500e+01 4.300e+00]\n",
      " [7.800e+00 2.070e+02 4.900e+01 1.200e+00]\n",
      " [1.210e+01 2.223e+02 5.600e+01 2.000e-01]\n",
      " [1.110e+01 1.833e+02 3.000e+01 6.800e+00]\n",
      " [6.700e+00 2.026e+02 7.000e+00 1.890e+01]\n",
      " [1.990e+01 2.051e+02 5.700e+01 5.000e-01]\n",
      " [8.600e+00 2.221e+02 2.500e+01 8.300e+00]\n",
      " [1.190e+01 1.805e+02 1.000e+00 2.370e+01]\n",
      " [2.440e+01 1.986e+02 3.000e+00 2.190e+01]\n",
      " [1.330e+01 2.065e+02 2.900e+01 6.900e+00]\n",
      " [2.390e+01 1.962e+02 5.500e+01 8.000e-01]\n",
      " [1.060e+01 1.856e+02 5.400e+01 1.000e+00]\n",
      " [1.810e+01 1.780e+02 1.600e+01 1.370e+01]\n",
      " [1.170e+01 2.076e+02 4.400e+01 2.200e+00]\n",
      " [1.290e+01 1.857e+02 4.800e+01 1.800e+00]\n",
      " [1.670e+01 2.229e+02 1.800e+01 1.190e+01]\n",
      " [1.690e+01 2.002e+02 4.400e+01 2.300e+00]\n",
      " [2.130e+01 2.142e+02 5.700e+01 4.000e-01]\n",
      " [1.840e+01 1.768e+02 5.900e+01 9.000e-01]\n",
      " [1.180e+01 2.007e+02 1.200e+01 1.570e+01]\n",
      " [2.330e+01 2.013e+02 5.000e+01 1.200e+00]\n",
      " [2.140e+01 1.896e+02 2.700e+01 8.000e+00]\n",
      " [1.590e+01 1.797e+02 3.000e+01 6.900e+00]\n",
      " [1.550e+01 1.897e+02 1.200e+01 1.590e+01]\n",
      " [1.270e+01 2.243e+02 4.000e+00 2.070e+01]\n",
      " [2.220e+01 2.002e+02 4.300e+01 2.600e+00]\n",
      " [2.470e+01 2.141e+02 2.900e+01 6.800e+00]\n",
      " [6.100e+00 2.109e+02 2.700e+01 7.600e+00]\n",
      " [2.280e+01 1.944e+02 3.900e+01 3.700e+00]\n",
      " [1.860e+01 2.132e+02 1.900e+01 1.150e+01]\n",
      " [2.420e+01 2.046e+02 3.700e+01 4.100e+00]\n",
      " [6.100e+00 1.817e+02 2.000e+01 1.140e+01]\n",
      " [2.150e+01 2.189e+02 5.200e+01 7.000e-01]\n",
      " [2.230e+01 1.978e+02 1.300e+01 1.520e+01]\n",
      " [7.400e+00 1.915e+02 5.300e+01 1.000e+00]\n",
      " [1.750e+01 2.172e+02 2.400e+01 8.900e+00]\n",
      " [5.100e+00 2.072e+02 5.600e+01 5.000e-01]\n",
      " [9.200e+00 1.955e+02 3.900e+01 3.600e+00]\n",
      " [9.100e+00 2.148e+02 4.700e+01 1.400e+00]\n",
      " [1.460e+01 2.173e+02 1.400e+01 1.420e+01]\n",
      " [2.310e+01 1.879e+02 4.200e+01 3.000e+00]\n",
      " [1.310e+01 2.173e+02 5.400e+01 5.000e-01]\n",
      " [1.480e+01 1.829e+02 3.000e+01 6.900e+00]\n",
      " [6.800e+00 2.176e+02 2.000e+01 1.080e+01]\n",
      " [1.220e+01 2.142e+02 5.200e+01 7.000e-01]\n",
      " [5.200e+00 1.870e+02 2.800e+01 7.600e+00]\n",
      " [2.360e+01 2.052e+02 7.000e+00 1.900e+01]\n",
      " [8.700e+00 1.884e+02 3.000e+01 6.700e+00]\n",
      " [1.260e+01 1.800e+02 4.000e+00 2.150e+01]\n",
      " [1.330e+01 2.178e+02 4.000e+00 2.080e+01]\n",
      " [1.440e+01 1.864e+02 4.300e+01 2.700e+00]\n",
      " [9.700e+00 2.008e+02 2.100e+01 1.060e+01]\n",
      " [7.400e+00 1.893e+02 5.800e+01 7.000e-01]\n",
      " [7.400e+00 2.043e+02 4.900e+01 1.300e+00]\n",
      " [1.510e+01 2.216e+02 4.300e+01 2.200e+00]\n",
      " [1.820e+01 2.149e+02 1.900e+01 1.150e+01]\n",
      " [1.100e+01 2.195e+02 3.000e+00 2.150e+01]\n",
      " [2.040e+01 1.917e+02 5.900e+01 6.000e-01]\n",
      " [2.250e+01 1.808e+02 4.800e+01 1.900e+00]\n",
      " [1.930e+01 1.852e+02 1.400e+01 1.480e+01]\n",
      " [1.280e+01 2.229e+02 5.300e+01 5.000e-01]\n",
      " [5.100e+00 1.783e+02 1.800e+01 1.250e+01]\n",
      " [1.450e+01 1.987e+02 1.800e+01 1.220e+01]\n",
      " [2.040e+01 2.037e+02 2.600e+01 8.200e+00]\n",
      " [2.430e+01 2.146e+02 5.100e+01 9.000e-01]\n",
      " [2.100e+01 1.957e+02 2.700e+01 7.900e+00]\n",
      " [1.670e+01 1.994e+02 5.600e+01 6.000e-01]\n",
      " [1.990e+01 1.968e+02 5.200e+01 1.100e+00]\n",
      " [2.280e+01 1.907e+02 4.700e+01 1.900e+00]\n",
      " [1.320e+01 1.854e+02 2.900e+01 7.200e+00]\n",
      " [1.220e+01 1.820e+02 4.000e+00 2.140e+01]]\n"
     ]
    }
   ],
   "source": [
    "#data = genfromtxt('bb.csv', names=True, delimiter=',', dtype=None) # use genfromtxt() with correct parameters\n",
    "#labels = genfromtxt('bb.csv', delimiter=',', usecols=0, dtype=str)\n",
    "#raw_data = np.genfromtxt('bb.csv', delimiter=',')[:,0:3]\n",
    "#data = {label: row for label, row in zip(labels, raw_data)}\n",
    "#print(data)\n",
    "data = genfromtxt('bb.csv', delimiter=';', skip_header=1)\n",
    "print(data)"
   ]
  },
  {
   "cell_type": "code",
   "execution_count": 3,
   "metadata": {},
   "outputs": [],
   "source": [
    "ok_(data.shape[0]==100, \"Wrong number of rows\")\n",
    "ok_(data.shape[1]==4, \"Wrong number of columns\")"
   ]
  },
  {
   "cell_type": "code",
   "execution_count": 4,
   "metadata": {},
   "outputs": [
    {
     "name": "stdout",
     "output_type": "stream",
     "text": [
      "sample mean 64.17375 sample std 80.42948642094825\n",
      "----------------------------------------------------------\n",
      "sample column mean [ 15.672 200.979  32.33    7.714] sample column std [ 5.79023454 14.2326898  17.88354271  7.06171396]\n"
     ]
    }
   ],
   "source": [
    "# print means and stds\n",
    "print(\"sample mean\", np.mean(data), \"sample std\", np.std(data))\n",
    "print(\"----------------------------------------------------------\")\n",
    "print(\"sample column mean\", np.mean(data, axis=0), \"sample column std\", np.std(data, axis=0))"
   ]
  },
  {
   "cell_type": "markdown",
   "metadata": {},
   "source": [
    "## Plot features (1p)\n",
    "\n",
    "Create a scatterplot showing the relation of all three features of the independent variable (Height, CollagePointsaverage and Draftposition) vs the dependent variable (Pointsaverage)."
   ]
  },
  {
   "cell_type": "code",
   "execution_count": 5,
   "metadata": {},
   "outputs": [
    {
     "name": "stderr",
     "output_type": "stream",
     "text": [
      "No handles with labels found to put in legend.\n"
     ]
    },
    {
     "data": {
      "image/png": "[encoded data removed]",
      "text/plain": [
       "<Figure size 432x288 with 1 Axes>"
      ]
     },
     "metadata": {
      "needs_background": "light"
     },
     "output_type": "display_data"
    }
   ],
   "source": [
    "# plt.plot commands here\n",
    "x = data[:, 0:3]\n",
    "y = data[:, 3:]\n",
    "plt.plot(x,y,'o')\n",
    "#print(data)\n",
    "\n",
    "plt.xlabel('independent variable')\n",
    "plt.ylabel('dependent variable')\n",
    "plt.legend()\n",
    "plt.show()"
   ]
  },
  {
   "cell_type": "markdown",
   "metadata": {},
   "source": [
    "# Step 2: Create a linear model"
   ]
  },
  {
   "cell_type": "markdown",
   "metadata": {},
   "source": [
    "## Scale data (1p)"
   ]
  },
  {
   "cell_type": "code",
   "execution_count": 6,
   "metadata": {},
   "outputs": [
    {
     "name": "stdout",
     "output_type": "stream",
     "text": [
      "scaled x mean and std\n",
      "[ 1.57651669e-16 -6.88116231e-15  8.21565038e-17]\n",
      "[1. 1. 1.]\n"
     ]
    }
   ],
   "source": [
    "scaler = StandardScaler().fit(x)\n",
    "#scaler1 = StandardScaler().fit(y)\n",
    "x = scaler.transform(x)\n",
    "y = data[:, 3]\n",
    "#print(y)\n",
    "print(\"scaled x mean and std\")\n",
    "print(x.mean(axis=0))\n",
    "print(x.std(axis=0))"
   ]
  },
  {
   "cell_type": "markdown",
   "metadata": {},
   "source": [
    "## Split data into training and test sets (1p)"
   ]
  },
  {
   "cell_type": "code",
   "execution_count": 7,
   "metadata": {},
   "outputs": [],
   "source": [
    "x_train, x_test, y_train, y_test = train_test_split(x, y, test_size=0.4)\n",
    "#print(x_train.shape, x_test.shape, y_train.shape, y_test.shape)"
   ]
  },
  {
   "cell_type": "code",
   "execution_count": 8,
   "metadata": {},
   "outputs": [],
   "source": [
    "ok_(x_train.shape[0]==60, \"Number of training samples not ok\")\n",
    "ok_(x_test.shape[0]==40, \"Number of test samples not ok\")\n"
   ]
  },
  {
   "cell_type": "markdown",
   "metadata": {},
   "source": [
    "## Linear model with all features (1p)\n",
    "\n",
    "Create a linear model. Print out the training and test set $R^2$ scores."
   ]
  },
  {
   "cell_type": "code",
   "execution_count": 9,
   "metadata": {},
   "outputs": [
    {
     "name": "stdout",
     "output_type": "stream",
     "text": [
      "0.9371444058674225\n",
      "0.9367093173450586\n"
     ]
    }
   ],
   "source": [
    "model = LinearRegression().fit(x_train,y_train)#\n",
    "#test_model = LinearRegression().fit(x_test,y_test)\n",
    "print(model.score(x_train,y_train))\n",
    "print(model.score(x_test,y_test))# print scores"
   ]
  },
  {
   "cell_type": "markdown",
   "metadata": {},
   "source": [
    "# Step 3: 2nd order polynomial model with only 'DraftPosition' feature"
   ]
  },
  {
   "cell_type": "markdown",
   "metadata": {},
   "source": [
    "## Transform data for polynomial fitting (1p)"
   ]
  },
  {
   "cell_type": "code",
   "execution_count": 10,
   "metadata": {},
   "outputs": [],
   "source": [
    "poly = PolynomialFeatures(2)\n",
    "x_poly = poly.fit_transform(data[:, 2].reshape(-1,1))"
   ]
  },
  {
   "cell_type": "code",
   "execution_count": 11,
   "metadata": {},
   "outputs": [],
   "source": [
    "#print(x_poly.shape[0])\n",
    "#print(x_poly.shape[1])\n",
    "ok_(x_poly.shape[0] == 100, \"Wrong number of rows\")\n",
    "ok_(x_poly.shape[1] == 3, \"Wrong number of features\")\n"
   ]
  },
  {
   "cell_type": "markdown",
   "metadata": {},
   "source": [
    "## Scale\n",
    "\n",
    "Scale the data. Verify that means and stds make sense."
   ]
  },
  {
   "cell_type": "code",
   "execution_count": 12,
   "metadata": {},
   "outputs": [
    {
     "name": "stdout",
     "output_type": "stream",
     "text": [
      "scaled x mean and std\n",
      "[0.00000000e+00 8.21565038e-17 3.77475828e-17]\n",
      "[0. 1. 1.]\n"
     ]
    }
   ],
   "source": [
    "scaler = StandardScaler().fit(x_poly)\n",
    "x = scaler.transform(x_poly)\n",
    "y = data[:, 3:]\n",
    "print(\"scaled x mean and std\")\n",
    "print(x.mean(axis=0))\n",
    "print(x.std(axis=0))\n",
    "#print(x.std(axis=0)[0])\n",
    "#print(x.std(axis=0)[1])"
   ]
  },
  {
   "cell_type": "code",
   "execution_count": 13,
   "metadata": {},
   "outputs": [],
   "source": [
    "ok_(x.std(axis=0)[0] == 0, \"number of rows\")\n",
    "ok_(x.std(axis=0)[1] == 1, \"number of features\")"
   ]
  },
  {
   "cell_type": "markdown",
   "metadata": {},
   "source": [
    "## Split into training and test sets"
   ]
  },
  {
   "cell_type": "code",
   "execution_count": 14,
   "metadata": {},
   "outputs": [],
   "source": [
    "x_train, x_test, y_train, y_test = train_test_split(x, y, test_size=0.4)"
   ]
  },
  {
   "cell_type": "markdown",
   "metadata": {},
   "source": [
    "## Create model (1p)\n",
    "\n",
    "Create model, fit it with the data, and print out training and test set $R^2$ scores."
   ]
  },
  {
   "cell_type": "code",
   "execution_count": 15,
   "metadata": {},
   "outputs": [
    {
     "name": "stdout",
     "output_type": "stream",
     "text": [
      "0.9989313400084298\n",
      "0.9986382733074031\n"
     ]
    }
   ],
   "source": [
    "model = LinearRegression().fit(x_train,y_train)#\n",
    "#test_model = LinearRegression().fit(x_test,y_test)\n",
    "print(model.score(x_train,y_train))# print scores\n",
    "print(model.score(x_test,y_test))"
   ]
  },
  {
   "cell_type": "markdown",
   "metadata": {},
   "source": [
    "## Plot model against data (1p)\n",
    "\n",
    "Plot the data points as blue dots, and the model predictions as a line. \n"
   ]
  },
  {
   "cell_type": "code",
   "execution_count": 16,
   "metadata": {},
   "outputs": [
    {
     "data": {
      "image/png": "[encoded data removed]",
      "text/plain": [
       "<Figure size 432x288 with 1 Axes>"
      ]
     },
     "metadata": {
      "needs_background": "light"
     },
     "output_type": "display_data"
    }
   ],
   "source": [
    "#plt.plot(x,y, 'bo')\n",
    "#x = np.linspace(0, 10).reshape(-1,1)\n",
    "#plt.plot(x, model.predict(x.reshape(-1,1)))\n",
    "#plt.legend()\n",
    "#plt.show()\n",
    "\n",
    "plt.plot(data[:,2], data[:,3], 'bo')\n",
    "xx = np.linspace(0, 60).reshape(-1,1)\n",
    "plt.plot(xx, model.predict(scaler.transform(poly.fit_transform(xx))))\n",
    "\n",
    "plt.show()"
   ]
  },
  {
   "cell_type": "markdown",
   "metadata": {},
   "source": [
    "## Comparison with step 2 model\n",
    "\n",
    "Compare $R^2$ with model created in step 2.\n",
    "\n"
   ]
  },
  {
   "cell_type": "markdown",
   "metadata": {},
   "source": [
    "# Step 4: All features polynomial LinearRegression and Ridge models\n",
    "\n",
    "In this step create both unregularized (LinearRegression) and regularized (Ridge) polynomial models of degrees 1..40. Record the $R^2$ scores for both models (both training and test), and make a plot of them where x-axis is the degree of the polynomial and y-axis $R^2$."
   ]
  },
  {
   "cell_type": "markdown",
   "metadata": {},
   "source": [
    "## Collect train and test scores for all degrees 1..40 for unregularized and regularized models (2p)"
   ]
  },
  {
   "cell_type": "code",
   "execution_count": 17,
   "metadata": {},
   "outputs": [],
   "source": [
    "y = data[:,3]\n",
    "x = data[:, [0,1,2]]\n",
    "linregrTrainScores = []\n",
    "linregrTestScores = []\n",
    "ridgeregrTrainScores = []\n",
    "ridgeregrTestScores = []\n",
    "\n",
    "degrees = range(1,40)\n",
    "\n",
    "for d in degrees:\n",
    "    \n",
    "    # create polynomial features\n",
    "    poly = PolynomialFeatures(d)\n",
    "    \n",
    "    #poly = PolynomialFeaturesres(d)\n",
    "    \n",
    "    x_poly = poly.fit_transform(x)\n",
    "    # scale   scaler.transform(poly.fit_transform(xx))\n",
    "    scaler = StandardScaler()\n",
    "    x_scaler = scaler.fit_transform(x_poly)\n",
    "    #x = scaler.transform(x_poly)\n",
    "    \n",
    "    # split into train & test sets\n",
    "    x_train, x_test, y_train, y_test = train_test_split(x_scaler, y, test_size=0.4)\n",
    "    # create & fit first model\n",
    "    model = LinearRegression().fit(x_train,y_train)\n",
    "    #print(model.score(x_train,y_train))\n",
    "    \n",
    "    \n",
    "    # record scores by using .append()\n",
    "    linregrTrainScores.append(model.score(x_train,y_train))\n",
    "    linregrTestScores.append(model.score(x_test,y_test))\n",
    "    \n",
    "    # create & fit second model\n",
    "    modelR = Ridge(solver='svd') # 'svd' selected for its stability. Using default alpha=1.0\n",
    "    modelR.fit(x_train, y_train)\n",
    "    #model_Test_ridge = model1.fit(x_test, y_test)\n",
    "    # record scores by using .append()\n",
    "    ridgeregrTrainScores.append(modelR.score(x_train,y_train))\n",
    "    ridgeregrTestScores.append(modelR.score(x_test,y_test))"
   ]
  },
  {
   "cell_type": "markdown",
   "metadata": {},
   "source": [
    "## Plot scores (1p)\n",
    "\n",
    "What does the result tell about regularized vs nonregularized polynomial models?\n",
    "\n",
    "Answer: Regularizations used to reduce the error by fitting a function appropriately on the given training set and avoid overfitting. Nonregularized used to avoid underfitting"
   ]
  },
  {
   "cell_type": "code",
   "execution_count": 18,
   "metadata": {},
   "outputs": [
    {
     "data": {
      "image/png": "[encoded data removed]",
      "text/plain": [
       "<Figure size 432x288 with 1 Axes>"
      ]
     },
     "metadata": {
      "needs_background": "light"
     },
     "output_type": "display_data"
    }
   ],
   "source": [
    "# plt.plot() calls here\n",
    "plt.plot(linregrTrainScores, label='Linregr Train Scores')\n",
    "plt.plot(linregrTestScores, label='Linregr Test Scores')\n",
    "plt.plot(ridgeregrTrainScores, label='Ridgeregr Train Scores')\n",
    "plt.plot(ridgeregrTestScores, label='Ridgeregr Test Scores')\n",
    "\n",
    "plt.legend()\n",
    "plt.show()"
   ]
  },
  {
   "cell_type": "markdown",
   "metadata": {},
   "source": [
    "## Finally (1p)\n",
    "\n",
    "It would be nice if you would answer some questions about this exercises.\n",
    "\n",
    "What was the amount of time you used for solving the exercise: It took me more than 5 days and per day I was doing 1.5 hours.\n",
    "\n",
    "What was hard (if anything): Step 4 was little confusing so I took a help from peter. \n",
    "\n",
    "Did the exercise make sense. Why / why not: Yes many more things to learn from this excercise like train and test model, fit model, scale, score and etc.  "
   ]
  }
 ],
 "metadata": {
  "kernelspec": {
   "display_name": "Python 3",
   "language": "python",
   "name": "python3"
  },
  "language_info": {
   "codemirror_mode": {
    "name": "ipython",
    "version": 3
   },
   "file_extension": ".py",
   "mimetype": "text/x-python",
   "name": "python",
   "nbconvert_exporter": "python",
   "pygments_lexer": "ipython3",
   "version": "3.7.4"
  }
 },
 "nbformat": 4,
 "nbformat_minor": 4
}
